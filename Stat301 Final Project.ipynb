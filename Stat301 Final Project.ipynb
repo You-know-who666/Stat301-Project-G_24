{
 "cells": [
  {
   "cell_type": "markdown",
   "id": "6c410231-8bbe-4fb9-9d05-4fe68158a52f",
   "metadata": {},
   "source": [
    "(1) Title Page: title, group members, course and date"
   ]
  },
  {
   "cell_type": "code",
   "execution_count": 3,
   "id": "8ec35cb6-b534-4186-852c-4cbada9f039e",
   "metadata": {},
   "outputs": [],
   "source": [
    "system(\"git remote -v\")"
   ]
  },
  {
   "cell_type": "code",
   "execution_count": 4,
   "id": "d5ae09a3-04d0-40f9-ad85-42a48a454b6f",
   "metadata": {},
   "outputs": [],
   "source": [
    "system('git remote set-url origin https://github.com/You-know-who666/Stat301-Project-G_24.git')"
   ]
  },
  {
   "cell_type": "code",
   "execution_count": 5,
   "id": "ed1fc310-10f9-4ea2-8f37-50516ccad351",
   "metadata": {},
   "outputs": [],
   "source": [
    "system(\"git push origin main\")  # or \"master\" if your branch is named master"
   ]
  },
  {
   "cell_type": "code",
   "execution_count": null,
   "id": "be7b2c6d-b956-48f2-81a6-d959056c65c2",
   "metadata": {},
   "outputs": [],
   "source": []
  },
  {
   "cell_type": "code",
   "execution_count": null,
   "id": "27492a5c-2c4b-42c6-817c-0983d14b6e09",
   "metadata": {},
   "outputs": [],
   "source": []
  }
 ],
 "metadata": {
  "kernelspec": {
   "display_name": "R",
   "language": "R",
   "name": "ir"
  },
  "language_info": {
   "codemirror_mode": "r",
   "file_extension": ".r",
   "mimetype": "text/x-r-source",
   "name": "R",
   "pygments_lexer": "r",
   "version": "4.3.3"
  }
 },
 "nbformat": 4,
 "nbformat_minor": 5
}
